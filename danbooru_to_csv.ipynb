{
  "nbformat": 4,
  "nbformat_minor": 0,
  "metadata": {
    "kernelspec": {
      "display_name": "Python 3",
      "language": "python",
      "name": "python3"
    },
    "language_info": {
      "codemirror_mode": {
        "name": "ipython",
        "version": 3
      },
      "file_extension": ".py",
      "mimetype": "text/x-python",
      "name": "python",
      "nbconvert_exporter": "python",
      "pygments_lexer": "ipython3",
      "version": "3.7.5"
    },
    "colab": {
      "name": "danbooru_to_csv.ipynb",
      "provenance": [],
      "collapsed_sections": [],
      "include_colab_link": true
    },
    "accelerator": "GPU"
  },
  "cells": [
    {
      "cell_type": "markdown",
      "metadata": {
        "id": "view-in-github",
        "colab_type": "text"
      },
      "source": [
        "<a href=\"https://colab.research.google.com/github/arfafax/StyleGAN2_experiments/blob/master/danbooru_to_csv.ipynb\" target=\"_parent\"><img src=\"https://colab.research.google.com/assets/colab-badge.svg\" alt=\"Open In Colab\"/></a>"
      ]
    },
    {
      "cell_type": "code",
      "metadata": {
        "id": "iRexarvjiwkC"
      },
      "source": [
        "#import sqlite3\n",
        "import json\n",
        "import os\n",
        "import csv\n",
        "\n",
        "DATA_DIR = \"./metadata.json.tar/metadata.json/metadata/2019\""
      ],
      "execution_count": null,
      "outputs": []
    },
    {
      "cell_type": "code",
      "metadata": {
        "id": "aNTWbb9eiwkF",
        "outputId": "ec39efb7-c3a3-45d4-e11e-d3e4d83449d7"
      },
      "source": [
        "cf = csv.writer(open(\"danbooru2019.csv\", \"a\", newline='', encoding='utf-8'))\n",
        "'''cf.writerow([\"id\",\n",
        "            \"tags\",\n",
        "            \"created_at\",\n",
        "            \"uploader_id\",\n",
        "            \"source\",\n",
        "            \"score\",\n",
        "            \"up_score\",\n",
        "            \"down_score\",\n",
        "            \"favs\",\n",
        "            \"md5\",\n",
        "            \"file_size\",\n",
        "#            \"file_url\",\n",
        "            \"file_ext\",\n",
        "            \"rating\",\n",
        "            \"is_status_locked\",\n",
        "            \"is_pending\",\n",
        "            \"is_flagged\",\n",
        "            \"is_deleted\",\n",
        "            \"width\",\n",
        "            \"height\",\n",
        "            \"has_children\",\n",
        "            \"parent_id\",\n",
        "            \"pools\"\n",
        "            #\"artist\",\n",
        "            #\"sources\"\n",
        "           ])\n",
        "'''\n",
        "for json_file in os.listdir(DATA_DIR):\n",
        "    json_path = os.path.join(DATA_DIR, json_file)\n",
        "    print(\"Processing\", json_path)\n",
        "\n",
        "    with open(json_path, \"r\", encoding=\"UTF-8\") as f:\n",
        "        raw_json_lines = f.readlines()\n",
        "\n",
        "\n",
        "    for raw_json_line in raw_json_lines:\n",
        "        json_line = json.loads(raw_json_line)\n",
        "        image_id = json_line[\"id\"]\n",
        "\n",
        "        tags_values = \" \".join(list(tag[\"category\"] + \":\" + tag[\"name\"]\n",
        "                       for tag in json_line[\"tags\"]))\n",
        "\n",
        "        favs_values = \" \".join(list(faver_id for faver_id in json_line[\"favs\"]))\n",
        "        pools_values = \" \".join(list(pool_id for pool_id in json_line[\"pools\"]))\n",
        "        cf.writerow([json_line[\"id\"],\n",
        "                    tags_values,\n",
        "                    json_line[\"created_at\"],\n",
        "                    json_line[\"uploader_id\"],\n",
        "                    json_line[\"source\"],\n",
        "                    json_line[\"score\"],\n",
        "                    json_line[\"up_score\"],\n",
        "                    json_line[\"down_score\"],\n",
        "                    favs_values,\n",
        "                    json_line[\"md5\"],\n",
        "                    json_line[\"file_size\"],\n",
        "                    json_line[\"file_ext\"],\n",
        "                    json_line[\"rating\"],\n",
        "                    json_line[\"is_status_locked\"],\n",
        "                    json_line[\"is_pending\"],\n",
        "                    json_line[\"is_flagged\"],\n",
        "                    json_line[\"is_deleted\"],\n",
        "                    json_line[\"image_width\"],\n",
        "                    json_line[\"image_height\"],\n",
        "                    json_line[\"has_children\"],\n",
        "                    json_line[\"parent_id\"],\n",
        "                    pools_values\n",
        "                   ])\n"
      ],
      "execution_count": null,
      "outputs": [
        {
          "output_type": "stream",
          "text": [
            "Processing K:\\Danbooru\\metadata.json.tar\\metadata.json\\metadata\\2019\\2019000000000000\n",
            "Processing K:\\Danbooru\\metadata.json.tar\\metadata.json\\metadata\\2019\\2019000000000001\n",
            "Processing K:\\Danbooru\\metadata.json.tar\\metadata.json\\metadata\\2019\\2019000000000002\n",
            "Processing K:\\Danbooru\\metadata.json.tar\\metadata.json\\metadata\\2019\\2019000000000003\n",
            "Processing K:\\Danbooru\\metadata.json.tar\\metadata.json\\metadata\\2019\\2019000000000004\n",
            "Processing K:\\Danbooru\\metadata.json.tar\\metadata.json\\metadata\\2019\\2019000000000005\n",
            "Processing K:\\Danbooru\\metadata.json.tar\\metadata.json\\metadata\\2019\\2019000000000006\n",
            "Processing K:\\Danbooru\\metadata.json.tar\\metadata.json\\metadata\\2019\\2019000000000007\n",
            "Processing K:\\Danbooru\\metadata.json.tar\\metadata.json\\metadata\\2019\\2019000000000008\n",
            "Processing K:\\Danbooru\\metadata.json.tar\\metadata.json\\metadata\\2019\\2019000000000009\n",
            "Processing K:\\Danbooru\\metadata.json.tar\\metadata.json\\metadata\\2019\\2019000000000010\n",
            "Processing K:\\Danbooru\\metadata.json.tar\\metadata.json\\metadata\\2019\\2019000000000011\n",
            "Processing K:\\Danbooru\\metadata.json.tar\\metadata.json\\metadata\\2019\\2019000000000012\n"
          ],
          "name": "stdout"
        }
      ]
    },
    {
      "cell_type": "code",
      "metadata": {
        "colab": {
          "base_uri": "https://localhost:8080/"
        },
        "id": "rXPwcgSD3Dhl",
        "outputId": "5d3109ad-ede8-4541-8ab2-6e8f51237534"
      },
      "source": [
        "!pwd"
      ],
      "execution_count": null,
      "outputs": [
        {
          "output_type": "stream",
          "text": [
            "/root/twdne-ds\r\n"
          ],
          "name": "stdout"
        }
      ]
    },
    {
      "cell_type": "code",
      "metadata": {
        "colab": {
          "base_uri": "https://localhost:8080/"
        },
        "id": "n84fqX_diwkH",
        "outputId": "ca5c4e89-5071-442a-9c82-a289b8a00bae"
      },
      "source": [
        "!ls"
      ],
      "execution_count": null,
      "outputs": [
        {
          "output_type": "stream",
          "text": [
            "'=0.0.7'   750.jpg   danbooru2019.csv   portraits   twdne.tar\r\n"
          ],
          "name": "stdout"
        }
      ]
    },
    {
      "cell_type": "code",
      "metadata": {
        "colab": {
          "base_uri": "https://localhost:8080/"
        },
        "id": "r8WIbKWH3PL-",
        "outputId": "4a9c3e49-23da-4645-cc25-075cd29ab6c3"
      },
      "source": [
        "!head -10 danbooru2019.csv"
      ],
      "execution_count": null,
      "outputs": [
        {
          "output_type": "stream",
          "text": [
            "id,tags,created_at,uploader_id,source,score,up_score,down_score,favs,md5,file_size,file_ext,rating,is_status_locked,is_pending,is_flagged,is_deleted,width,height,has_children,parent_id,pools\r\r\n",
            "263159,0:1girl 0:bangs 0:barefoot 0:blunt_bangs 0:brown_hair 0:hair_bun 0:hime_cut 0:japanese_clothes 1:kakinouchi_narumi 0:long_hair 4:miyu_(vampire_princess_miyu) 0:ribbon 0:solo 3:vampire_princess_miyu 0:yellow_eyes,2008-06-10 02:53:12.6256 UTC,65792,,0,0,0,89268 68238 117203 169955,c401bc0081a6952acfc1ad2f65d51b82,21258,jpg,s,False,False,False,False,363,575,False,0,\r\r\n",
            "3014643,1:0:00 0:1girl 0:bare_shoulders 0:bikini 0:blue_eyes 0:blush 0:braid 0:breasts 0:collarbone 5:commentary_request 3:girls_und_panzer 5:highres 0:legs 0:looking_at_viewer 0:navel 0:orange_hair 4:orange_pekoe_(girls_und_panzer) 0:solo 0:standing 0:swimsuit,2018-02-09 02:45:12.76396 UTC,526080,https://twitter.com/mayonaka_reiji/status/909418228849418240,2,2,0,467355 60223 352442,9e244e110b9f631dd031b376dcc53b0b,170749,jpg,s,False,False,False,True,1191,1684,False,0,\r\r\n",
            "2872205,0:1girl 0:alternate_costume 0:black_legwear 0:bunny 5:commentary 0:hair_ornament 5:highres 3:kantai_collection 1:ken_sogen 0:looking_at_viewer 0:pantyhose 0:pink_eyes 0:pink_hair 3:saturday_night_fever 4:sazanami_(kantai_collection) 0:shirt 0:shoes 0:shorts 0:simple_background 0:sneakers 0:striped 0:striped_shirt 5:translated 0:twintails 0:white_background,2017-09-29 02:47:20.1346 UTC,528640,https://i.pximg.net/img-original/img/2016/10/18/20/04/53/59529871_p0.jpg,5,5,0,486490 467363 512658 109835 467355 515301 60223,e8c6b832bac2e67ac2c3daa1077372ef,278218,jpg,s,False,False,False,False,992,1200,False,0,\r\r\n",
            "2875899,0:2girls 0:black_legwear 0:blue_eyes 0:blush 0:braid 0:brown_hair 0:chair 0:hair_flaps 0:hair_ornament 0:hand_kiss 0:heart 4:hibiki_(kantai_collection) 0:holding 0:holding_hand 3:kantai_collection 0:kiss 0:long_hair 0:long_sleeves 0:looking_at_another 1:mugicha_(mugitya912) 0:multiple_girls 0:neckerchief 0:no_gloves 0:no_hat 0:no_headwear 0:no_mouth 0:onomatopoeia 0:red_neckwear 0:remodel_(kantai_collection) 0:school_uniform 0:serafuku 4:shigure_(kantai_collection) 0:short_sleeves 0:side_braid 0:silver_hair 0:sitting 0:sitting_on_object 0:thighhighs 0:yuri,2017-10-02 06:15:04.59886 UTC,528640,https://i.pximg.net/img-original/img/2016/05/29/16/36/04/57125493_p4.png,6,6,0,72775 66907 60223 424873 467355 593735,dc182d8ea809d6f94391539339aa56fe,649765,png,s,False,False,False,True,800,1000,False,0,\r\r\n",
            "2874486,0:2girls 0:3koma 5:absurdres 4:atago_(kantai_collection) 0:blush 0:breast_press 0:breath 5:check_translation 0:comic 0:crying 0:crying_with_eyes_open 0:dress 0:hand_on_another's_shoulder 5:highres 0:hug 0:jacket 3:kantai_collection 0:kiss 0:long_sleeves 0:monochrome 0:multiple_girls 0:no_gloves 0:open_mouth 0:pink_theme 0:simple_background 1:sorimachi-doufu 0:symmetrical_docking 4:takao_(kantai_collection) 0:tears 5:translation_request 0:white_background 0:yuri,2017-10-01 03:12:48.2397 UTC,528640,https://i.pximg.net/img-original/img/2015/12/05/20/20/13/53894774_p2.jpg,6,6,0,497581 414276 367316 438160 516700 467355 336789 457124 108947 196099 478273 541192 533347 503093 593735,1d5163eb6a58c00dac9396e08425f564,2537127,jpg,s,False,False,False,False,1699,3401,False,0,\r\r\n",
            "2875904,0:2girls 0:ahoge 0:bed 0:bedroom 0:black_gloves 0:blue_eyes 0:blush 0:braid 0:brown_hair 0:chest_of_drawers 0:closed_eyes 0:fingerless_gloves 0:gloves 0:hair_ornament 0:hand_on_another's_head 4:hibiki_(kantai_collection) 0:holding 3:kantai_collection 0:long_hair 1:mugicha_(mugitya912) 0:multiple_girls 0:neckerchief 0:petting 0:pillow 0:red_neckwear 0:remodel_(kantai_collection) 0:school_uniform 0:serafuku 4:shigure_(kantai_collection) 0:side_braid 0:silver_hair 0:yuri,2017-10-02 06:20:20.62152 UTC,528640,https://i.pximg.net/img-original/img/2016/05/29/16/36/04/57125493_p7.png,7,7,0,505064 72775 438160 60223 463563 424873 481431 531481 467355 593735,7e5360871c6aaf7d7db8e7bda2c7a0c7,404786,png,s,False,False,False,True,750,563,False,0,\r\r\n",
            "2873159,0:1girl 0:bangs 0:black_hair 0:black_legwear 0:blunt_bangs 0:bow 0:braid 0:green_skirt 0:hair_bow 3:kantai_collection 1:ken_sogen 4:kitakami_(kantai_collection) 0:kneehighs 0:leaning_back 0:long_hair 0:neckerchief 0:no_shoes 0:open_mouth 0:pleated_skirt 0:school_uniform 0:serafuku 0:sidelocks 0:single_braid 0:skirt 0:skirt_hold 0:sweat 0:sweatdrop 5:translation_request,2017-09-30 02:40:25.95261 UTC,528640,https://i.pximg.net/img-original/img/2016/09/06/19/12/06/58848746_p2.jpg,11,11,0,486490 109333 66907 469777 521425 19831 95847 467355 32607 60223,c3c2c7f0f30ee6c5974c9c80537cbc51,344385,jpg,s,False,False,False,True,1052,744,False,0,\r\r\n",
            "2875864,0:2girls 0:alternate_costume 0:ass 0:bare_shoulders 0:beach 0:bikini 0:blush 0:brown_eyes 0:brown_hair 0:cloud 0:day 0:flower 0:folded_ponytail 0:frilled_bikini 0:frills 0:hair_flower 0:hair_ornament 0:hair_ribbon 0:hairclip 0:hand_on_own_chest 5:highres 0:holding 0:holding_clothes 4:ikazuchi_(kantai_collection) 4:inazuma_(kantai_collection) 0:innertube 3:kantai_collection 0:looking_at_viewer 0:looking_back 1:mitsuki_ponzu 0:multiple_girls 0:ocean 0:open_mouth 0:pink_bikini 0:red_bikini 0:red_flower 0:ribbon 0:short_hair 0:side-tie_bikini 0:star 0:swimsuit 0:wardrobe_malfunction 0:water_gun 0:yellow_innertube,2017-10-02 04:43:11.76278 UTC,528640,https://s.booth.pm/418bf358-c9a3-4149-aec4-ddcec1519dc1/i/623916/264788f5-2291-41af-90fb-7f4e9915ddb8.jpg,21,21,0,501346 533698 479628 469777 124147 267118 364643 449812 72775 22248 488864 385029 349233 499717 527326 66907 499450 526869 467709 60223 467355 509627 437683 511078 95847 59923 519585 499371 478797 451680 500158 556433 533699,2fa581cee5e2131e4f59311dd6c93d53,2173449,jpg,s,False,False,False,False,1354,1719,False,0,\r\r\n",
            "1900094,0:2girls 4:alice_margatroid 0:blonde_hair 0:blue_eyes 0:braid 0:breast_press 0:giantess 0:hat 5:highres 4:kirisame_marisa 1:kuro_oolong 0:long_hair 0:minigirl 0:multiple_girls 0:nude 0:open_mouth 0:short_hair 0:size_difference 0:smile 3:touhou 0:witch_hat,2015-01-12 01:08:34.12966 UTC,338432,http://i1.pixiv.net/img-original/img/2015/01/12/09/22/55/48132984_p1.jpg,0,0,0,449465 710328,b3a6a4bd9fe5048436a44bc982dff8ac,722525,jpg,q,False,False,False,True,1080,1528,False,1900057,\r\r\n"
          ],
          "name": "stdout"
        }
      ]
    },
    {
      "cell_type": "code",
      "metadata": {
        "id": "c4vZ8Lep3cBl"
      },
      "source": [
        "import pandas as pd"
      ],
      "execution_count": null,
      "outputs": []
    },
    {
      "cell_type": "code",
      "metadata": {
        "id": "H2bPpZzs41pd"
      },
      "source": [
        "df = pd.read_csv('danbooru2019.csv')\r\n",
        "df.head(3)"
      ],
      "execution_count": null,
      "outputs": []
    }
  ]
}